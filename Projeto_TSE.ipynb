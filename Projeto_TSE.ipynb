{
  "cells": [
    {
      "cell_type": "markdown",
      "source": [
        "<hr>\n",
        "<h1>Análise Exploratória dos Dados Orçamentário das Eleições de Municipais de Campina Grande - Paraíba</h1>\n",
        "<hr>"
      ],
      "metadata": {
        "id": "bnHaQD04jozl"
      },
      "id": "bnHaQD04jozl"
    },
    {
      "cell_type": "markdown",
      "id": "bb06a5f4",
      "metadata": {
        "id": "bb06a5f4"
      },
      "source": [
        "<h2>1. Contexto</h2>\n",
        "<p>A proposta desse projeto é analisar o financiamento das campanhas, com objetivo de entender quais as receitas empenhadas, e as despesas empenhadas nas eleições de prefeito e vereadores do município de Campina Grande - PB, no ano de 2020.</p>\n",
        "<p>Os dados utilizados nesse projeto são públicos, e estão disponíveis no Portal do <a href=\"https://dadosabertos.tse.jus.br/dataset/prestacao-de-contas-eleitorais-2020\">TSE</a>.\n",
        "\n",
        "<p><strong>Descrição dos dados:</strong></p>\n",
        "<ul>\n",
        "  <p><strong>Tabela de Receita Contratadas:</strong></p>\n",
        "  <li>DS_CARGO - Descrição do cargo do candidato prestador de contas.\n",
        "  <li>NM_CANDIDATO - Nome completo do candidato.\n",
        "  <li>NR_CPF_CANDIDATO - CPF do candidato registrado na Justiça Eleitoral.\n",
        "  <li>NR_PARTIDO - Número do partido do candidato.\n",
        "  <li>SG_PARTIDO - Sigla do partido do candidato.\n",
        "  <li>NM_PARTIDO - Nome do partido do candidato.\n",
        "  <li>DS_ORIGEM_RECEITA - Descrição do o tipo de origem do recurso (DRD), informado pelo prestador de contas em relação à doação.\n",
        "  <li>VR_RECEITA - Valor da doação em Reais.\n",
        "  <li>DS_RECEITA - Descrição Resumida informada pelo prestador de contas em relação à doação.\n",
        "  <br>\n",
        "  <p><strong>Tabela das Despesas Pagas e Contratadas:</strong></p>\n",
        "  <li>DS_CARGO - Descrição do cargo do candidato prestador de contas.\n",
        "  <li>NM_CANDIDATO - Nome completo do candidato.\n",
        "  <li>NR_CPF_CANDIDATO - CPF do candidato registrado na Justiça Eleitoral.\n",
        "  <li>NR_PARTIDO - Número do partido do candidato.\n",
        "  <li>SG_PARTIDO - Sigla do partido do candidato.\n",
        "  <li>NM_PARTIDO - Nome do partido do candidato.\n",
        "  <li>SQ_DESPESA - Sequencial de identificação do registro da despesa declarada pelo prestador de contas.\n",
        "  <li>VR_DESPESA_CONTRATADA - Valor da despesa contratada em Reais, informada pelo prestador de contas em relação à despesa.\n",
        "  <li>DS_ORIGEM_DESPESA\t- Descrição do tipo de origem da despesa (DRD), informado pelo prestador de contas em relação à despesa.\n",
        "  <li>SQ_DESPESA - Sequencial de identificação do registro da despesa declarada pelo prestador de contas.\n",
        "  <li>VR_PAGTO_DESPESA - Valor pago da despesa em Reais, informada pelo prestador de contas.\n",
        "</ul>"
      ]
    },
    {
      "cell_type": "markdown",
      "source": [
        "<h2>2. Pacotes e bibliotecas</h2>"
      ],
      "metadata": {
        "id": "Pplckw0VrMul"
      },
      "id": "Pplckw0VrMul"
    },
    {
      "cell_type": "code",
      "source": [
        "# Instalando os pacotes da biblioteca Dash:\n",
        "# !pip install dash \n",
        "# !pip install dash-bootstrap-components"
      ],
      "metadata": {
        "colab": {
          "base_uri": "https://localhost:8080/"
        },
        "id": "SHDRNHBLrfPk",
        "outputId": "73d56aff-aef1-42ba-e5de-5f4f7d7f2e8f"
      },
      "id": "SHDRNHBLrfPk",
      "execution_count": 2,
      "outputs": [
        {
          "output_type": "stream",
          "name": "stdout",
          "text": [
            "Looking in indexes: https://pypi.org/simple, https://us-python.pkg.dev/colab-wheels/public/simple/\n",
            "Collecting dash-bootstrap-components\n",
            "  Using cached dash_bootstrap_components-1.2.1-py3-none-any.whl (216 kB)\n",
            "\u001b[31mERROR: Could not find a version that satisfies the requirement 1.2.1 (from versions: none)\u001b[0m\n",
            "\u001b[31mERROR: No matching distribution found for 1.2.1\u001b[0m\n"
          ]
        }
      ]
    },
    {
      "cell_type": "code",
      "execution_count": 2,
      "id": "9de2316c",
      "metadata": {
        "id": "9de2316c"
      },
      "outputs": [],
      "source": [
        "import pandas as pd\n",
        "import numpy as np\n",
        "import plotly.express as px\n",
        "\n",
        "from dash import Dash, dcc, html, Input, Output, dash_table\n",
        "import dash_bootstrap_components as dbc"
      ]
    },
    {
      "cell_type": "markdown",
      "source": [
        "<h2>3. Exploração dos Dados</h2>"
      ],
      "metadata": {
        "id": "HbXXrWU8uukV"
      },
      "id": "HbXXrWU8uukV"
    },
    {
      "cell_type": "code",
      "execution_count": 3,
      "id": "28258360",
      "metadata": {
        "id": "28258360"
      },
      "outputs": [],
      "source": [
        "dc = pd.read_csv(filepath_or_buffer='https://github.com/SergioAdauto/base_tse_pb_2020/raw/main/despesas_contratadas_candidatos_2020_PB.zip', sep=';', decimal = '.', compression='zip', encoding='latin-1')"
      ]
    },
    {
      "cell_type": "code",
      "execution_count": 4,
      "id": "4f05ba65",
      "metadata": {
        "id": "4f05ba65"
      },
      "outputs": [],
      "source": [
        "dp = pd.read_csv(filepath_or_buffer='https://github.com/SergioAdauto/base_tse_pb_2020/raw/main/despesas_pagas_candidatos_2020_PB.zip', sep=';', decimal = '.', compression='zip', encoding='latin-1')"
      ]
    },
    {
      "cell_type": "code",
      "execution_count": 5,
      "id": "14ed18e6",
      "metadata": {
        "id": "14ed18e6"
      },
      "outputs": [],
      "source": [
        "rc = pd.read_csv(filepath_or_buffer='https://github.com/SergioAdauto/base_tse_pb_2020/raw/main/receitas_candidatos_2020_PB.zip', sep=';', decimal = '.', compression='zip', encoding='latin-1')"
      ]
    },
    {
      "cell_type": "code",
      "execution_count": 6,
      "id": "0f75978a",
      "metadata": {
        "id": "0f75978a"
      },
      "outputs": [],
      "source": [
        "despesas_contratadas = dc.query('NM_UE == \"CAMPINA GRANDE\"')\n",
        "despesas_pagas = dp\n",
        "receita_candidatos = rc.query('NM_UE == \"CAMPINA GRANDE\"')"
      ]
    },
    {
      "cell_type": "markdown",
      "id": "bb52a6a7",
      "metadata": {
        "id": "bb52a6a7"
      },
      "source": [
        "<p>-- Juntando os dataframes e selecionando colunas especificas:</p>"
      ]
    },
    {
      "cell_type": "code",
      "execution_count": 7,
      "id": "c3d6a31a",
      "metadata": {
        "id": "c3d6a31a"
      },
      "outputs": [],
      "source": [
        "df_despesas = despesas_contratadas[['DS_CARGO',\n",
        "                                    'NM_CANDIDATO', \n",
        "                                    'NR_CPF_CANDIDATO', \n",
        "                                    'NR_PARTIDO', \n",
        "                                    'SG_PARTIDO', \n",
        "                                    'NM_PARTIDO', \n",
        "                                    'SQ_DESPESA', \n",
        "                                    'VR_DESPESA_CONTRATADA']].merge(\n",
        "    right=despesas_pagas[['DS_ORIGEM_DESPESA', 'SQ_DESPESA', 'VR_PAGTO_DESPESA']], on='SQ_DESPESA')\n"
      ]
    },
    {
      "cell_type": "code",
      "execution_count": 8,
      "id": "7065fb38",
      "metadata": {
        "id": "7065fb38"
      },
      "outputs": [],
      "source": [
        "df_receitas = receita_candidatos[['DS_CARGO',\n",
        "                    'NM_CANDIDATO',\n",
        "                    'NR_CPF_CANDIDATO',\n",
        "                    'NR_PARTIDO',\n",
        "                    'SG_PARTIDO',\n",
        "                    'NM_PARTIDO',\n",
        "                    'DS_ORIGEM_RECEITA',\n",
        "                    'VR_RECEITA',\n",
        "                    'DS_RECEITA']]"
      ]
    },
    {
      "cell_type": "markdown",
      "id": "118555bf",
      "metadata": {
        "id": "118555bf"
      },
      "source": [
        "<p>-- Organizando os tipos das colunas:</p>"
      ]
    },
    {
      "cell_type": "code",
      "execution_count": 9,
      "id": "3ead32cf",
      "metadata": {
        "colab": {
          "base_uri": "https://localhost:8080/"
        },
        "id": "3ead32cf",
        "outputId": "bb3b3e15-852a-481e-bf0f-b4b68af359fd"
      },
      "outputs": [
        {
          "output_type": "stream",
          "name": "stderr",
          "text": [
            "<ipython-input-9-5e19de709d0b>:2: SettingWithCopyWarning: \n",
            "A value is trying to be set on a copy of a slice from a DataFrame.\n",
            "Try using .loc[row_indexer,col_indexer] = value instead\n",
            "\n",
            "See the caveats in the documentation: https://pandas.pydata.org/pandas-docs/stable/user_guide/indexing.html#returning-a-view-versus-a-copy\n",
            "  df_receitas['VR_RECEITA'] = df_receitas['VR_RECEITA'].str.replace(',', '.')\n"
          ]
        }
      ],
      "source": [
        "df_despesas['VR_DESPESA_CONTRATADA'] = df_despesas['VR_DESPESA_CONTRATADA'].str.replace(',', '.')\n",
        "df_receitas['VR_RECEITA'] = df_receitas['VR_RECEITA'].str.replace(',', '.')\n",
        "df_despesas['VR_PAGTO_DESPESA'] = (df_despesas['VR_PAGTO_DESPESA'].str.replace(',', '.')).astype(np.float32)"
      ]
    },
    {
      "cell_type": "code",
      "execution_count": 10,
      "id": "c4dcb3b2",
      "metadata": {
        "id": "c4dcb3b2"
      },
      "outputs": [],
      "source": [
        "df_despesas = df_despesas.astype({'NR_CPF_CANDIDATO':str, 'NR_PARTIDO':object, 'SQ_DESPESA':object, 'VR_DESPESA_CONTRATADA':np.float32})\n",
        "df_receitas = df_receitas.astype({'NR_CPF_CANDIDATO':str, 'NR_PARTIDO':object, 'VR_RECEITA':np.float32})"
      ]
    },
    {
      "cell_type": "markdown",
      "source": [
        "<h2>4. Manipulação dos Dados</h2>"
      ],
      "metadata": {
        "id": "2sn2Nl3IvVvx"
      },
      "id": "2sn2Nl3IvVvx"
    },
    {
      "cell_type": "code",
      "execution_count": 11,
      "id": "30a0e0d9",
      "metadata": {
        "id": "30a0e0d9"
      },
      "outputs": [],
      "source": [
        "#Lista de todos os partidos:\n",
        "partidos = df_receitas['SG_PARTIDO'].unique()\n",
        "#Contagem de todos os partidos:\n",
        "tot_partidos = len(df_receitas['SG_PARTIDO'].unique())\n",
        "#Lista de todos os candidatos:\n",
        "candidato = df_receitas['NM_CANDIDATO'].unique()\n",
        "#Contagem de todos os candidatos:\n",
        "tot_cadidato = len(df_receitas['NM_CANDIDATO'].unique())\n",
        "\n",
        "# Calculando a despesa totais contratadas:\n",
        "despesas = df_despesas[['SG_PARTIDO','SQ_DESPESA','VR_DESPESA_CONTRATADA']].groupby(['SG_PARTIDO','SQ_DESPESA']).sum().reset_index()\n",
        "# Calculando as despesas totais contratadas:\n",
        "# Obs: Foi preciso filtrar as informações das despesas pagas, pois estavam duplicadas (ou repretidas muitas vezes).\n",
        "# Para fazer isso, foi utilizado o método value_counts para extrair os elementos repetidos e garantir que o valor\n",
        "# da despesa paga fosse único.\n",
        "# Ainda na mesma linha, foi utilizado uma função lambda para extrar o valor da despesa paga sem a repetição.\n",
        "despesas['VR_PAGTO_DESPESA'] = df_despesas[['SG_PARTIDO', 'SQ_DESPESA', 'VR_PAGTO_DESPESA']].value_counts().to_frame().reset_index().rename(columns={0:'count'}).apply(lambda desp: desp['VR_PAGTO_DESPESA'], axis=1)\n",
        "\n",
        "# Analisar os gastos e receitas dos partidos políticos em 2020:\n",
        "# OBS: Não existe descrição das origens de receitas e dos gastos, são dados brutos.\n",
        "receita_partido = df_receitas[['SG_PARTIDO','VR_RECEITA']].groupby('SG_PARTIDO').sum().reset_index()\n",
        "despesa__partido = despesas[['SG_PARTIDO', 'VR_DESPESA_CONTRATADA', 'VR_PAGTO_DESPESA']].groupby('SG_PARTIDO').sum().reset_index()\n",
        "despesa__partido['DIF_DESPESAS'] = despesa__partido.apply(lambda desp: desp['VR_DESPESA_CONTRATADA'] - desp['VR_PAGTO_DESPESA'], axis=1)\n",
        "despesa__partido['VR_DESPESA_TOTAL'] = despesa__partido['VR_DESPESA_CONTRATADA'] + despesa__partido['VR_PAGTO_DESPESA']\n",
        "# Junto dos dados brutos das despesas e receitas\n",
        "receita_despesa_partido = receita_partido\n",
        "receita_despesa_partido['VR_DESPESAS'] = despesa__partido['VR_DESPESA_TOTAL']\n",
        "receita_despesa_partido['VR_DESPESA_CONTRATADA'] = despesa__partido['VR_DESPESA_CONTRATADA']\n",
        "receita_despesa_partido['VR_PAGTO_DESPESA'] = despesa__partido['VR_PAGTO_DESPESA']\n",
        "\n"
      ]
    },
    {
      "cell_type": "code",
      "execution_count": 12,
      "id": "0b425fd6",
      "metadata": {
        "id": "0b425fd6"
      },
      "outputs": [],
      "source": [
        "# Informações sobre despesas e receitas dos candidato a prefeito [nome e partido]:\n",
        "receita_cand_prefeito = df_receitas.query('DS_CARGO == \"Prefeito\"')\n",
        "despesa_cand_prefeito = df_despesas.query('DS_CARGO == \"Prefeito\"')\n",
        "\n",
        "tabela_prefeito_receita = receita_cand_prefeito.groupby(['NM_CANDIDATO', 'SG_PARTIDO']).sum().reset_index().rename(columns={'NM_CANDIDATO':'Candidato', 'SG_PARTIDO':'Partido','VR_RECEITA':'Receita Total'})\n",
        "tabela_prefeito_receita['Receita Total'] = tabela_prefeito_receita['Receita Total'].round(2)\n",
        "\n",
        "tabela_prefeito_despesa = despesa_cand_prefeito.groupby(['NM_CANDIDATO', 'SG_PARTIDO']).sum().reset_index().rename(columns={'NM_CANDIDATO':'Candidato', 'SG_PARTIDO':'Partido','VR_DESPESA_CONTRATADA':'Despesa Total Contratada', 'VR_PAGTO_DESPESA':'Despesa Total Paga'})\n",
        "tabela_prefeito_despesa['Despesa Total'] = (tabela_prefeito_despesa['Despesa Total Contratada'] + tabela_prefeito_despesa['Despesa Total Paga']).round(2)\n",
        "tabela_prefeito_despesa['Despesa Total Contratada'] = tabela_prefeito_despesa['Despesa Total Contratada'].round(2)\n",
        "tabela_prefeito_despesa['Despesa Total Paga'] = tabela_prefeito_despesa['Despesa Total Paga'].round(2)\n",
        "\n"
      ]
    },
    {
      "cell_type": "code",
      "execution_count": 13,
      "id": "4693b432",
      "metadata": {
        "id": "4693b432"
      },
      "outputs": [],
      "source": [
        "# Informações sobre as despesas e receitas dos candidatos a vereadores [nome e partido]:\n",
        "receita_cand_vereador = df_receitas.query('DS_CARGO == \"Vereador\"')\n",
        "despesa_cand_vereador = df_despesas.query('DS_CARGO == \"Vereador\"')\n",
        "\n",
        "tabela_vereador_receita = receita_cand_vereador.groupby(['NM_CANDIDATO', 'SG_PARTIDO']).sum().reset_index().rename(columns={'NM_CANDIDATO':'Candidato', 'SG_PARTIDO':'Partido','VR_RECEITA':'Receita Total'})\n",
        "tabela_vereador_receita['Receita Total'] = tabela_vereador_receita['Receita Total'].round(2)\n",
        "\n",
        "tabela_vereador_despesa = despesa_cand_vereador.groupby(['NM_CANDIDATO', 'SG_PARTIDO']).sum().reset_index().rename(columns={'NM_CANDIDATO':'Candidato', 'SG_PARTIDO':'Partido','VR_DESPESA_CONTRATADA':'Despesa Total Contratada', 'VR_PAGTO_DESPESA':'Despesa Total Paga'})\n",
        "tabela_vereador_despesa['Despesa Total'] = (tabela_vereador_despesa['Despesa Total Contratada'] + tabela_vereador_despesa['Despesa Total Paga']).round(2)\n",
        "tabela_vereador_despesa['Despesa Total Contratada'] = tabela_vereador_despesa['Despesa Total Contratada'].round(2)\n",
        "tabela_vereador_despesa['Despesa Total Paga'] = tabela_vereador_despesa['Despesa Total Paga'].round(2)\n",
        "\n"
      ]
    },
    {
      "cell_type": "code",
      "execution_count": 14,
      "id": "6001ee21",
      "metadata": {
        "id": "6001ee21"
      },
      "outputs": [],
      "source": [
        "#detalhe das origens das receitas e despesas dos candidato a prefeito:\n",
        "detalhes_receita_prefeito = df_receitas.query('DS_CARGO == \"Prefeito\"')[['DS_ORIGEM_RECEITA', 'VR_RECEITA']].groupby('DS_ORIGEM_RECEITA').sum().reset_index().sort_values(by='VR_RECEITA')\n",
        "x = df_despesas.query('DS_CARGO == \"Prefeito\"')[['DS_ORIGEM_DESPESA','SQ_DESPESA','VR_DESPESA_CONTRATADA']].groupby(['DS_ORIGEM_DESPESA','SQ_DESPESA']).sum()\n",
        "y = df_despesas.query('DS_CARGO == \"Prefeito\"')[['DS_ORIGEM_DESPESA', 'SQ_DESPESA', 'VR_PAGTO_DESPESA']].value_counts(sort=False).to_frame().reset_index().rename(columns={0:'count'}).drop(columns='count')\n",
        "\n",
        "detalhes_despesas = x.merge(right=y, on='SQ_DESPESA')\n",
        "detalhes_despesas = detalhes_despesas[['DS_ORIGEM_DESPESA','VR_DESPESA_CONTRATADA', 'VR_PAGTO_DESPESA']].groupby('DS_ORIGEM_DESPESA').sum()\n",
        "detalhes_despesas['DIF_DESPESA'] = detalhes_despesas['VR_DESPESA_CONTRATADA'] - detalhes_despesas['VR_PAGTO_DESPESA']\n",
        "detalhes_despesas['TOT_DESPESA'] = detalhes_despesas['DIF_DESPESA'] + detalhes_despesas['VR_PAGTO_DESPESA']\n",
        "detalhes_despesas.reset_index(inplace=True)\n",
        "\n",
        "detalhes_despesas_prefeito = detalhes_despesas.sort_values(by='TOT_DESPESA', ascending=True, ignore_index=True)\n",
        "\n"
      ]
    },
    {
      "cell_type": "code",
      "execution_count": 15,
      "id": "08886fb7",
      "metadata": {
        "id": "08886fb7"
      },
      "outputs": [],
      "source": [
        "#detalhe das origens das receitas e despesas dos candidados a vereador:\n",
        "detalhes_receita_vereador = df_receitas.query('DS_CARGO == \"Vereador\"')[['DS_ORIGEM_RECEITA', 'VR_RECEITA']].groupby('DS_ORIGEM_RECEITA').sum().reset_index().sort_values(by='VR_RECEITA')\n",
        "x = df_despesas.query('DS_CARGO == \"Vereador\"')[['DS_ORIGEM_DESPESA','SQ_DESPESA','VR_DESPESA_CONTRATADA']].groupby(['DS_ORIGEM_DESPESA','SQ_DESPESA']).sum()\n",
        "y = df_despesas.query('DS_CARGO == \"Vereador\"')[['DS_ORIGEM_DESPESA', 'SQ_DESPESA', 'VR_PAGTO_DESPESA']].value_counts(sort=False).to_frame().reset_index().rename(columns={0:'count'}).drop(columns='count')\n",
        "\n",
        "detalhes_despesas = x.merge(right=y, on='SQ_DESPESA')\n",
        "detalhes_despesas = detalhes_despesas[['DS_ORIGEM_DESPESA','VR_DESPESA_CONTRATADA', 'VR_PAGTO_DESPESA']].groupby('DS_ORIGEM_DESPESA').sum()\n",
        "detalhes_despesas['DIF_DESPESA'] = detalhes_despesas['VR_DESPESA_CONTRATADA'] - detalhes_despesas['VR_PAGTO_DESPESA']\n",
        "detalhes_despesas['TOT_DESPESA'] = detalhes_despesas['DIF_DESPESA'] + detalhes_despesas['VR_PAGTO_DESPESA']\n",
        "detalhes_despesas.reset_index(inplace=True)\n",
        "\n",
        "detalhes_despesas_vereador = detalhes_despesas.sort_values(by='TOT_DESPESA', ascending=True, ignore_index=True)\n",
        "\n"
      ]
    },
    {
      "cell_type": "markdown",
      "source": [
        "<h2>5. Dashboard</h2>"
      ],
      "metadata": {
        "id": "nVbjFYEXvEK7"
      },
      "id": "nVbjFYEXvEK7"
    },
    {
      "cell_type": "code",
      "execution_count": 21,
      "id": "b34ec1ad",
      "metadata": {
        "id": "b34ec1ad"
      },
      "outputs": [],
      "source": [
        "app = Dash(__name__)\n"
      ]
    },
    {
      "cell_type": "code",
      "execution_count": 22,
      "id": "265f38ee",
      "metadata": {
        "colab": {
          "base_uri": "https://localhost:8080/"
        },
        "id": "265f38ee",
        "outputId": "da91e21d-f588-4c0a-c5d4-495d37edc5bd"
      },
      "outputs": [
        {
          "output_type": "stream",
          "name": "stdout",
          "text": [
            "Dash is running on http://127.0.0.1:8050/\n",
            "\n"
          ]
        },
        {
          "output_type": "stream",
          "name": "stderr",
          "text": [
            "INFO:__main__:Dash is running on http://127.0.0.1:8050/\n",
            "\n"
          ]
        },
        {
          "output_type": "stream",
          "name": "stdout",
          "text": [
            " * Serving Flask app \"__main__\" (lazy loading)\n",
            " * Environment: production\n",
            "\u001b[31m   WARNING: This is a development server. Do not use it in a production deployment.\u001b[0m\n",
            "\u001b[2m   Use a production WSGI server instead.\u001b[0m\n",
            " * Debug mode: on\n"
          ]
        }
      ],
      "source": [
        "#Aplicação Dash:\n",
        "# Toda elaborada em HTML e CSS inline, usando os dados/informações que se encontra acima:\n",
        "app.layout = html.Div(children=[\n",
        "    html.H1(children='DASHBOARD ANALÍTICO ELEIÇÕES CAMPINA GRANDE(PB) 2020: RECEITAS E DESPESAS',\n",
        "           style={\"background-image\": \"linear-gradient(45deg, #3549B0, #222F70, #4863F0, #4C69FC, #4059D6)\", \"color\":\"#ffffff\", \"margin\":\"auto\", \"padding\":\"50px\", \"text-align\":\"center\"}),\n",
        "    \n",
        "    html.Div(id='cards', style={'width': '75%', \"margin\":\"auto\", \"padding\":\"15px 0px\", \"text-align\":\"center\"}),\n",
        "    \n",
        "    dcc.Tabs(id='tabs-party-date', value='Receita', children=[\n",
        "        dcc.Tab(label='Receita', value='Receita'),\n",
        "        dcc.Tab(label='Despesa', value='Despesa'),\n",
        "    ], style={\"display\":\"block\",'width': '65%', \"margin\":\"auto\", \"padding\":\"10px\"}),\n",
        "    html.Div(id='tabs', style={'width': '75%', \"margin\":\"auto\", \"padding\":\"15px\"}),\n",
        "    \n",
        "    dcc.Tabs(id='tabs_mayor_councilor', value='Prefeito', children=[\n",
        "        dcc.Tab(label='Prefeito', value='Prefeito'),\n",
        "        dcc.Tab(label='Vereador', value='Vereador'),\n",
        "    ], style={\"display\":\"block\",'width': '65%', \"margin\":\"auto\"}),\n",
        "    html.Div(children=[\n",
        "        html.Div(id='mayor_councilor', style={\"flex\": \"2\",'width': '60%', \"margin\":\"auto\", \"padding\":\"15px\"}),\n",
        "        html.Div(id='select_party', style={\"flex\": \"1\",'width': '35%',\"margin\":\"auto\"}),\n",
        "    ],style={\"display\":\"flex\",'width': '80%', \"margin\":\"10px auto\"}),\n",
        "    \n",
        "    html.H6(children='Desenvolvido por Sérgio Adauto S.P. de Carvalho & Vinicius B. Montenegro', style={\"background-image\": \"linear-gradient(45deg, #3549B0, #222F70, #4863F0, #4C69FC, #4059D6)\", \"color\":\"#ffffff\", \"margin\":\"auto\", \"padding\":\"5px\", \"text-align\":\"center\"})\n",
        "    ], style={ \"background-color\": \"#E7E7E7\", \"margin\":\"auto\", \"padding\":\"0\"})\n",
        "\n",
        "\n",
        "@app.callback(\n",
        "    Output('tabs', 'children'),\n",
        "    Input('tabs-party-date', 'value')   \n",
        ")\n",
        "# Função responsável por gerar a tabela com a informação dos gastos e receitas realizadas pelos partidos políticos\n",
        "# na campanha eleitoral de 2020\n",
        "def tab_1(option):\n",
        "    if option == 'Receita':\n",
        "        return html.Div([\n",
        "                html.H3(children='Receita dos Partidos Políticos para as Eleições de 2020', style={\"display\":\"block\",'width': '75%', \"margin\":\"auto\"}),\n",
        "                dcc.Graph(\n",
        "                    figure= px.bar(receita_despesa_partido, x=\"SG_PARTIDO\", y=\"VR_RECEITA\",\n",
        "                                  barmode=\"group\", text_auto='.2s',\n",
        "                                  labels={'VR_RECEITA':'Valor da Receita', 'SG_PARTIDO':'Partidos'}, \n",
        "                                  )\n",
        "                         )])\n",
        "    elif option == 'Despesa':\n",
        "        return html.Div([\n",
        "                html.H3(children='Despesas Realizada pelos Partidos Políticos nas Eleições de 2020', style={\"display\":\"block\",'width': '75%', \"margin\":\"auto\"}),\n",
        "                dcc.Graph(\n",
        "                    figure= px.bar(receita_despesa_partido, x=\"SG_PARTIDO\", y=\"VR_DESPESAS\",\n",
        "                                  barmode=\"group\", text_auto='.2s',\n",
        "                                  labels={'VR_DESPESAS':'Valor das Despesas', 'SG_PARTIDO':'Partidos'}, \n",
        "                                  )\n",
        "                         )])\n",
        "    \n",
        "    \n",
        "@app.callback(\n",
        "    Output('mayor_councilor', 'children'),\n",
        "    Input('tabs-party-date', 'value'),\n",
        "    Input('tabs_mayor_councilor', 'value')\n",
        ")\n",
        "# função responsável por gerar o gráfico da origem das despesas e receitas dos políticos a prefeito, ou vereador\n",
        "def search_tabs(option, tabs):\n",
        "    if option == 'Receita':\n",
        "        if tabs == 'Prefeito':\n",
        "            return html.Div([\n",
        "                html.H3(children='Origem das Receita para Candidatos a Prefeito', style={\"display\":\"block\",'width': '75%', \"margin\":\"auto\"}),\n",
        "                dcc.Graph(\n",
        "                    figure= px.bar(detalhes_receita_prefeito, x=\"VR_RECEITA\", y=\"DS_ORIGEM_RECEITA\", \n",
        "                                  barmode=\"group\", text_auto='.2s',\n",
        "                                  labels={'VR_RECEITA':'Valor da Receita', 'DS_ORIGEM_RECEITA':'Origem da Receita'}, \n",
        "                                  )\n",
        "                         )])\n",
        "        elif tabs == 'Vereador':\n",
        "            return html.Div([\n",
        "                html.H3(children='Origem das Receita para Candidatos a Vereadores', style={\"display\":\"block\",'width': '75%', \"margin\":\"auto\"}),\n",
        "                dcc.Graph(\n",
        "                    figure= px.bar(detalhes_receita_vereador, x=\"VR_RECEITA\", y=\"DS_ORIGEM_RECEITA\",\n",
        "                                  barmode=\"group\", text_auto='.2s',\n",
        "                                  labels={'VR_RECEITA':'Valor da Receita', 'DS_ORIGEM_RECEITA':'Origem da Receita'}, \n",
        "                                  )\n",
        "                         )])\n",
        "    elif option == 'Despesa':\n",
        "        if tabs == 'Prefeito':\n",
        "            return html.Div([\n",
        "                html.H3(children='Origem das Despesas dos Candidatos a Prefeito', style={\"display\":\"block\",'width': '75%', \"margin\":\"auto\"}),\n",
        "                dcc.Graph(\n",
        "                    figure= px.bar(detalhes_despesas_prefeito, x=\"TOT_DESPESA\", y=\"DS_ORIGEM_DESPESA\", \n",
        "                                  barmode=\"group\", text_auto='.2s',\n",
        "                                  labels={'TOT_DESPESA':'Despesas', 'DS_ORIGEM_DESPESA':'Origem das Despesas'}, \n",
        "                                  )\n",
        "                         )])\n",
        "        elif tabs == 'Vereador':\n",
        "            return html.Div([\n",
        "                html.H3(children='Origem das Despesas dos Candidatos a Vereadores', style={\"display\":\"block\",'width': '75%', \"margin\":\"auto\"}),\n",
        "                dcc.Graph(\n",
        "                    figure= px.bar(detalhes_despesas_vereador, x=\"TOT_DESPESA\", y=\"DS_ORIGEM_DESPESA\", \n",
        "                                  barmode=\"group\", text_auto='.2s',\n",
        "                                  labels={'TOT_DESPESA':'Despesas', 'DS_ORIGEM_DESPESA':'Origem das Despesas'}, \n",
        "                                  )\n",
        "                         )])\n",
        "\n",
        "@app.callback(\n",
        "    Output('cards', 'children'),\n",
        "    Input('tabs-party-date', 'value'),\n",
        ")#Função responsável por criar os cartões de exibições com as informações de total de políticos, total de partidos\n",
        "# receita média e despesa média.\n",
        "def tab_1(option):\n",
        "    if option == 'Receita':\n",
        "        return html.Div([\n",
        "                 dbc.Card( dbc.CardBody([html.H2(tot_cadidato, className=\"card-title\"),\n",
        "                                html.H4(\"Total de Candidatos\", className=\"card-subtitle\")]), \n",
        "                        style={\"display\":\"inline-block\",\"width\": \"10%\", \"margin\":\"auto\", \"padding\":\"30px\", \n",
        "                              \"background-color\": \"#ffffff\", \"border-radius\": \"10px 0px 0px 0px\"}),\n",
        "                 dbc.Card( dbc.CardBody([html.H2(tot_partidos, className=\"card-title\"),\n",
        "                                  html.H4(\"Total de Partidos\", className=\"card-subtitle\")]),\n",
        "                        style={\"display\":\"inline-block\",\"width\": \"10%\", \"padding\":\"30px\", \n",
        "                                  \"background-color\": \"#ffffff\"}),\n",
        "                 dbc.Card( dbc.CardBody([html.H2(round(receita_partido['VR_RECEITA'].sum()/tot_cadidato,0), className=\"card-title\"),\n",
        "                                  html.H4(\"Receita Média por Candidatos\", className=\"card-subtitle\")]),\n",
        "                        style={\"display\":\"inline-block\",\"width\": \"15%\", \"padding\":\"30px\", \n",
        "                                \"background-color\": \"#ffffff\", \"border-radius\": \"0px 0px 10px 0px\"})\n",
        "                   ])\n",
        "    elif option == 'Despesa':\n",
        "        return html.Div([\n",
        "                 dbc.Card( dbc.CardBody([html.H2(tot_cadidato, className=\"card-title\"),\n",
        "                                html.H4(\"Total de Candidatos\", className=\"card-subtitle\")]), \n",
        "                        style={\"display\":\"inline-block\",\"width\": \"10%\", \"margin\":\"auto\", \"padding\":\"30px\", \n",
        "                              \"background-color\": \"#ffffff\", \"border-radius\": \"10px 0px 0px 0px\"}),\n",
        "                 dbc.Card( dbc.CardBody([html.H2(tot_partidos, className=\"card-title\"),\n",
        "                                  html.H4(\"Total de Partidos\", className=\"card-subtitle\")]),\n",
        "                        style={\"display\":\"inline-block\",\"width\": \"10%\", \"padding\":\"30px\", \n",
        "                                  \"background-color\": \"#ffffff\"}),\n",
        "                 dbc.Card( dbc.CardBody([html.H2(round(despesa__partido['VR_DESPESA_CONTRATADA'].sum()/tot_cadidato,2), className=\"card-title\"),\n",
        "                                html.H4(\"Despesa Média Por Candidato\", className=\"card-subtitle\")]),\n",
        "                        style={\"display\":\"inline-block\",\"width\": \"15%\", \"padding\":\"30px\", \n",
        "                                \"background-color\": \"#ffffff\", \"border-radius\": \"0px 0px 10px 0px\"})\n",
        "                   ])\n",
        "   \n",
        "@app.callback(\n",
        "    Output('dd-output-container', 'children'),\n",
        "    Input('tabs-party-date', 'value'),\n",
        "    Input('tabs_mayor_councilor', 'value'),\n",
        "    Input('demo-dropdown', 'value')\n",
        ")\n",
        "# Função responsável por gerar as tabelas dos partidos politicos com as informações das receita total, despesa total \n",
        "def update_output(option, tabs, value):\n",
        "    if option == 'Receita' and tabs == \"Prefeito\":\n",
        "        if value == 'Todos':\n",
        "            return html.Div([\n",
        "                        dbc.Container([\n",
        "                        dash_table.DataTable(tabela_prefeito_receita.to_dict('records'),[{\"name\": i, \"id\": i} for i in tabela_prefeito_receita.columns], id='tbl'),\n",
        "                        dbc.Alert(id='tbl_out')])\n",
        "                   ])\n",
        "        \n",
        "        else:\n",
        "            return html.Div([\n",
        "                        dbc.Container([\n",
        "                            dash_table.DataTable(tabela_prefeito_receita.query(f'Partido == \"{value}\"').to_dict('records'),[{\"name\": i, \"id\": i} for i in tabela_prefeito_receita.columns], id='tbl'),\n",
        "                            dbc.Alert(id='tbl_out')])\n",
        "                    ])\n",
        "    elif option == 'Despesa' and tabs == \"Prefeito\":\n",
        "        if value == 'Todos':\n",
        "            return html.Div([\n",
        "                        dbc.Container([\n",
        "                        dash_table.DataTable(tabela_prefeito_despesa.to_dict('records'),[{\"name\": i, \"id\": i} for i in tabela_prefeito_despesa.columns], id='tbl'),\n",
        "                        dbc.Alert(id='tbl_out')])\n",
        "                   ])\n",
        "        else:\n",
        "            return html.Div([\n",
        "                        dbc.Container([\n",
        "                            dash_table.DataTable(tabela_prefeito_despesa.query(f'Partido == \"{value}\"').to_dict('records'),[{\"name\": i, \"id\": i} for i in tabela_prefeito_despesa.columns], id='tbl'),\n",
        "                            dbc.Alert(id='tbl_out')])\n",
        "                    ])\n",
        "    elif option == 'Receita' and tabs == \"Vereador\":\n",
        "        if value == 'Todos':\n",
        "            return html.Div([\n",
        "                        dbc.Container([\n",
        "                        dash_table.DataTable(tabela_vereador_receita.to_dict('records'),[{\"name\": i, \"id\": i} for i in tabela_vereador_receita.columns], id='tbl'),\n",
        "                        dbc.Alert(id='tbl_out')])\n",
        "                   ])\n",
        "            \n",
        "        else:\n",
        "            return html.Div([\n",
        "                        dbc.Container([\n",
        "                            dash_table.DataTable(tabela_vereador_receita.query(f'Partido == \"{value}\"').to_dict('records'),[{\"name\": i, \"id\": i} for i in tabela_vereador_receita.columns], id='tbl'),\n",
        "                            dbc.Alert(id='tbl_out')])\n",
        "                    ])\n",
        "    elif option == 'Despesa' and tabs == \"Vereador\":\n",
        "        if value == 'Todos':\n",
        "            return html.Div([\n",
        "                        dbc.Container([\n",
        "                        dash_table.DataTable(tabela_vereador_despesa.to_dict('records'),[{\"name\": i, \"id\": i} for i in tabela_vereador_despesa.columns], id='tbl'),\n",
        "                        dbc.Alert(id='tbl_out')])\n",
        "                   ])\n",
        "            \n",
        "        else:\n",
        "            return html.Div([\n",
        "                        dbc.Container([\n",
        "                            dash_table.DataTable(tabela_vereador_despesa.query(f'Partido == \"{value}\"').to_dict('records'),[{\"name\": i, \"id\": i} for i in tabela_vereador_despesa.columns], id='tbl'),\n",
        "                            dbc.Alert(id='tbl_out')])\n",
        "                   ])\n",
        "# aplicação e função responsável por gerar a lista dos partidos polítcios para prefeito, ou vereador:\n",
        "@app.callback(\n",
        "    Output('select_party', 'children'),\n",
        "    Input('tabs_mayor_councilor', 'value')\n",
        ")\n",
        "def select_search(tabs):\n",
        "    if tabs == \"Prefeito\":\n",
        "            return html.Div([\n",
        "                            dcc.Dropdown(['Todos','PODE', 'PC do B', 'PSL', 'PSD', 'PSOL'], 'Todos', id='demo-dropdown'),\n",
        "                            html.Div(id='dd-output-container', style={\"overflow\": \"auto\", \"height\":\"200px\"})\n",
        "                            ],style={\"display\":\"block\",'width': '100%', \"margin\":\"10px auto\"})\n",
        "    elif tabs == \"Vereador\":\n",
        "           return html.Div([\n",
        "                            dcc.Dropdown(['Todos','PODE', 'PROS', 'DEM', 'PSD', 'REPUBLICANOS', 'PC do B', 'PTB',\n",
        "                                           'PSL', 'CIDADANIA', 'PT', 'UP', 'DC', 'PATRIOTA', 'MDB', 'PSC',\n",
        "                                           'SOLIDARIEDADE', 'PP', 'PSB', 'PMN', 'PCO'], 'Todos', id='demo-dropdown'),\n",
        "                            html.Div(id='dd-output-container', style={\"overflow\": \"auto\", \"height\":\"200px\"})\n",
        "                            ],style={\"display\":\"block\",'width': '100%', \"margin\":\"10px auto\"})\n",
        "\n",
        "    \n",
        "    \n",
        "if __name__ == '__main__':\n",
        "     app.run_server(debug=True, use_reloader=False)"
      ]
    }
  ],
  "metadata": {
    "kernelspec": {
      "display_name": "Python 3 (ipykernel)",
      "language": "python",
      "name": "python3"
    },
    "language_info": {
      "codemirror_mode": {
        "name": "ipython",
        "version": 3
      },
      "file_extension": ".py",
      "mimetype": "text/x-python",
      "name": "python",
      "nbconvert_exporter": "python",
      "pygments_lexer": "ipython3",
      "version": "3.8.10"
    },
    "vscode": {
      "interpreter": {
        "hash": "0a855e0798565613629ea6aeaedacd216294da74377df975d61f1b4e8b3b3cf0"
      }
    },
    "colab": {
      "provenance": []
    }
  },
  "nbformat": 4,
  "nbformat_minor": 5
}